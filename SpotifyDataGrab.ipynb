{
 "cells": [
  {
   "cell_type": "code",
   "execution_count": 7,
   "metadata": {},
   "outputs": [],
   "source": [
    "import pandas as pd\n",
    "import numpy as np\n",
    "import spotipy\n",
    "import requests\n",
    "import json\n",
    "from spotipy.oauth2 import SpotifyClientCredentials"
   ]
  },
  {
   "cell_type": "code",
   "execution_count": 8,
   "metadata": {},
   "outputs": [],
   "source": [
    "client_id = 'ee2b858721d248bb92681bca5fd6af5e'\n",
    "client_secret = '59a96b7e0a7b48fe94e027dd77aa518a'\n",
    "\n",
    "client_credentials_manager = SpotifyClientCredentials(client_id, client_secret)\n",
    "sp = spotipy.Spotify(client_credentials_manager=client_credentials_manager)"
   ]
  },
  {
   "cell_type": "code",
   "execution_count": 9,
   "metadata": {},
   "outputs": [],
   "source": [
    "def getTrackIDs(user, playlist_id):\n",
    "    ids = []\n",
    "    playlist = sp.user_playlist(user, playlist_id)\n",
    "    for item in playlist['tracks']['items']:\n",
    "        track = item['track']\n",
    "        ids.append(track['id'])\n",
    "    return ids\n",
    "\n",
    "ids = getTrackIDs('angelicadietzel', '4R0BZVh27NUJhHGLNitU08')"
   ]
  },
  {
   "cell_type": "code",
   "execution_count": 10,
   "metadata": {},
   "outputs": [
    {
     "name": "stdout",
     "output_type": "stream",
     "text": [
      "54\n"
     ]
    }
   ],
   "source": [
    "print(len(ids))"
   ]
  },
  {
   "cell_type": "code",
   "execution_count": 11,
   "metadata": {},
   "outputs": [
    {
     "data": {
      "text/plain": [
       "['7AiMnJSODcJoKDejQ3mnoJ',\n",
       " '73C4vh7W8u41Vll5HvBqv7',\n",
       " '5kYZbBLAGrrhFKNbOs6D95',\n",
       " '18z6OV5lknJmKnZi7aA1zH',\n",
       " '1gHtbcRP4tz1O1NsxPpBea',\n",
       " '3kJudfRjZMItdFYVCCaSi6',\n",
       " '6mzaCRuLTRiz1caGOum3zT',\n",
       " '5h4Uqkh9RpRZwm5ADLh5uj',\n",
       " '3rGew9pmFEmGD9nZ12F1tN',\n",
       " '0dYDmow4l5hbPs5E6QLMSC',\n",
       " '1B3jkf6CyuiF8CQcKlUx9y',\n",
       " '6DkmFhzJrkVhDlcgcEy7Pc',\n",
       " '5dKy6Cgv6xwiRY3j3AJ7Uq',\n",
       " '0oz4ZqHuUaz3uEkP2vD0u8',\n",
       " '389hKTL3ZBPPWP3VuXfEyv',\n",
       " '5cw9s2zGrbny2M2p3WRmGm',\n",
       " '3YaMX9Cf68dxiG6RKo0pSY',\n",
       " '1cAL4sFzXXRMbpZnTPa7Zi',\n",
       " '4w5BVeKJFCj2rrrEy31s0n',\n",
       " '4ta2AWru6ldjg1aHzww0aK',\n",
       " '45DJ0PbKPdbslnyrcM80HN',\n",
       " '7yNu82yd6dYmGQ0H1q0jKo',\n",
       " '4v4HwTfMPslhWAnJxIXchn',\n",
       " '6XptjfnUvLfejptpjPRhCT',\n",
       " '1y2SK8EjL3WSnJvJEMWOoq',\n",
       " '4UMp46x46Zmu9OEr8m3Gl2',\n",
       " '7nb50hgKYhnHJLHKZ7qiKO',\n",
       " '5y5OzukBTl0yTRMEdNmApJ',\n",
       " '3Hdl3BEFb1IEbL0Jq53enx',\n",
       " '0lsC0OkBgiLYbSsoHOzMnr',\n",
       " '0Pm1BZp4MpoMKkNxIXCfAu',\n",
       " '2droOB3xlZkhgfUM0owDTq',\n",
       " '2Nd2HLWrIq1DcNMiYPTQUC',\n",
       " '4j644tViOFAf4i0BYT12R8',\n",
       " '4k6hX9RKD096K1NCjjJZLc',\n",
       " '0aSW5EMeNnQSMJQ8QN3zIW',\n",
       " '0tkmYNfaEaH9HpR59ApRtE',\n",
       " '0kas95RruYRVqrOb07rgkh',\n",
       " '4BOikd4oZjOYMde9AXfrTo',\n",
       " '6ZRuF2n1CQxyxxAAWsKJOy',\n",
       " '1EGrDTfEuAiRzRdxlblpET',\n",
       " '32s2Dn9EVvO2f85MrpRoBV',\n",
       " '4jM3c9KLTO9iZPm9A7neiL',\n",
       " '6GCRnf1W9OKxok9fvNp3pz',\n",
       " '1Zm9qGPQkTAOBiVpGSnJUq',\n",
       " '3ucRKbRlikYHyoI17gfR0c',\n",
       " '6HUO25AttZZCoKAY0vUVtc',\n",
       " '5Qr7StTFbXhgHt9JlqJx0I',\n",
       " '1QzC4y8h6WFxHE4KlokhVr',\n",
       " '1xz905v9g71heS0BQQM9re',\n",
       " '5QTdOvIF2ehBMZpSIIGzIo',\n",
       " '7IJiDYPZy2AIJn3YVHhvD4',\n",
       " '23wuZgeX1oyJ43QYOTo9s7',\n",
       " '0tBBihoEWiWKqsO5ZlCbwS']"
      ]
     },
     "execution_count": 11,
     "metadata": {},
     "output_type": "execute_result"
    }
   ],
   "source": [
    "ids"
   ]
  },
  {
   "cell_type": "code",
   "execution_count": null,
   "metadata": {},
   "outputs": [],
   "source": []
  }
 ],
 "metadata": {
  "kernelspec": {
   "display_name": "Python 3",
   "language": "python",
   "name": "python3"
  },
  "language_info": {
   "codemirror_mode": {
    "name": "ipython",
    "version": 3
   },
   "file_extension": ".py",
   "mimetype": "text/x-python",
   "name": "python",
   "nbconvert_exporter": "python",
   "pygments_lexer": "ipython3",
   "version": "3.8.3"
  }
 },
 "nbformat": 4,
 "nbformat_minor": 4
}
