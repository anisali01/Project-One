{
 "cells": [
  {
   "cell_type": "code",
   "execution_count": 1,
   "metadata": {},
   "outputs": [],
   "source": [
    "from pathlib import Path\n",
    "import pandas as pd"
   ]
  },
  {
   "cell_type": "code",
   "execution_count": 2,
   "metadata": {},
   "outputs": [
    {
     "data": {
      "text/plain": [
       "WindowsPath('C:/Users/Cam Foster/Documents/Education/Georgia Tech/Homework/Project_One/Project-One/Resources/data_1.csv')"
      ]
     },
     "execution_count": 2,
     "metadata": {},
     "output_type": "execute_result"
    }
   ],
   "source": [
    "readpath = Path.cwd() / 'Resources' / 'data_1.csv'\n",
    "readpath"
   ]
  },
  {
   "cell_type": "code",
   "execution_count": 3,
   "metadata": {},
   "outputs": [],
   "source": [
    "df = pd.read_csv(readpath, encoding = \"ANSI\")"
   ]
  },
  {
   "cell_type": "code",
   "execution_count": 5,
   "metadata": {},
   "outputs": [
    {
     "data": {
      "text/plain": [
       "<bound method NDFrame.describe of          Position                                         Track Name  \\\n",
       "0               1                         Reggaetón Lento (Bailemos)   \n",
       "1               2                                           Chantaje   \n",
       "2               3                          Otra Vez (feat. J Balvin)   \n",
       "3               4                                       Vente Pa' Ca   \n",
       "4               5                                             Safari   \n",
       "...           ...                                                ...   \n",
       "1048569        55  I Don’t Wanna Live Forever (Fifty Shades Darke...   \n",
       "1048570        56                                       La Bicicleta   \n",
       "1048571        57                                Scared to Be Lonely   \n",
       "1048572        58                            Cuando Se Pone a Bailar   \n",
       "1048573        59                                   De Vez en Cuando   \n",
       "\n",
       "                      Artist  Streams  \\\n",
       "0                       CNCO  19272.0   \n",
       "1                    Shakira  19270.0   \n",
       "2              Zion & Lennox  15761.0   \n",
       "3               Ricky Martin  14954.0   \n",
       "4                   J Balvin  14269.0   \n",
       "...                      ...      ...   \n",
       "1048569                 ZAYN  24984.0   \n",
       "1048570         Carlos Vives  23883.0   \n",
       "1048571        Martin Garrix  23649.0   \n",
       "1048572               Rombai  22654.0   \n",
       "1048573  Franco \"El Gorilla\"  21903.0   \n",
       "\n",
       "                                                       URL  \\\n",
       "0        https://open.spotify.com/track/3AEZUABDXNtecAO...   \n",
       "1        https://open.spotify.com/track/6mICuAdrwEjh6Y6...   \n",
       "2        https://open.spotify.com/track/3QwBODjSEzelZyV...   \n",
       "3        https://open.spotify.com/track/7DM4BPaS7uofFul...   \n",
       "4        https://open.spotify.com/track/6rQSrBHf7HlZjtc...   \n",
       "...                                                    ...   \n",
       "1048569  https://open.spotify.com/track/3NdDpSvN911VPGi...   \n",
       "1048570  https://open.spotify.com/track/0sXvAOmXgjR2QUq...   \n",
       "1048571  https://open.spotify.com/track/3ebXMykcMXOcLeJ...   \n",
       "1048572  https://open.spotify.com/track/1MpKZi1zTXpERKw...   \n",
       "1048573  https://open.spotify.com/track/1VRjHqcE8ttKtaj...   \n",
       "\n",
       "                        Column1       Date Region  \n",
       "0        3AEZUABDXNtecAOSC1qTfo   1/1/2017     ec  \n",
       "1        6mICuAdrwEjh6Y6lroV2Kg   1/1/2017     ec  \n",
       "2        3QwBODjSEzelZyVjxPOHdq   1/1/2017     ec  \n",
       "3        7DM4BPaS7uofFul3ywMe46   1/1/2017     ec  \n",
       "4        6rQSrBHf7HlZjtcMZ4S4bO   1/1/2017     ec  \n",
       "...                         ...        ...    ...  \n",
       "1048569  3NdDpSvN911VPGivFlV5d0  3/19/2017     cl  \n",
       "1048570  0sXvAOmXgjR2QUqLK1MltU  3/19/2017     cl  \n",
       "1048571  3ebXMykcMXOcLeJ9xZ17XH  3/19/2017     cl  \n",
       "1048572  1MpKZi1zTXpERKwxmOu1PH  3/19/2017     cl  \n",
       "1048573  1VRjHqcE8ttKtaj8bTaJyS  3/19/2017     cl  \n",
       "\n",
       "[1048574 rows x 8 columns]>"
      ]
     },
     "execution_count": 5,
     "metadata": {},
     "output_type": "execute_result"
    }
   ],
   "source": [
    "df.describe"
   ]
  },
  {
   "cell_type": "code",
   "execution_count": 6,
   "metadata": {},
   "outputs": [
    {
     "data": {
      "text/html": [
       "<div>\n",
       "<style scoped>\n",
       "    .dataframe tbody tr th:only-of-type {\n",
       "        vertical-align: middle;\n",
       "    }\n",
       "\n",
       "    .dataframe tbody tr th {\n",
       "        vertical-align: top;\n",
       "    }\n",
       "\n",
       "    .dataframe thead th {\n",
       "        text-align: right;\n",
       "    }\n",
       "</style>\n",
       "<table border=\"1\" class=\"dataframe\">\n",
       "  <thead>\n",
       "    <tr style=\"text-align: right;\">\n",
       "      <th></th>\n",
       "      <th>Position</th>\n",
       "      <th>Track Name</th>\n",
       "      <th>Artist</th>\n",
       "      <th>Streams</th>\n",
       "      <th>URL</th>\n",
       "      <th>Column1</th>\n",
       "      <th>Date</th>\n",
       "      <th>Region</th>\n",
       "    </tr>\n",
       "  </thead>\n",
       "  <tbody>\n",
       "    <tr>\n",
       "      <th>0</th>\n",
       "      <td>1</td>\n",
       "      <td>Reggaetón Lento (Bailemos)</td>\n",
       "      <td>CNCO</td>\n",
       "      <td>19272.0</td>\n",
       "      <td>https://open.spotify.com/track/3AEZUABDXNtecAO...</td>\n",
       "      <td>3AEZUABDXNtecAOSC1qTfo</td>\n",
       "      <td>1/1/2017</td>\n",
       "      <td>ec</td>\n",
       "    </tr>\n",
       "    <tr>\n",
       "      <th>1</th>\n",
       "      <td>2</td>\n",
       "      <td>Chantaje</td>\n",
       "      <td>Shakira</td>\n",
       "      <td>19270.0</td>\n",
       "      <td>https://open.spotify.com/track/6mICuAdrwEjh6Y6...</td>\n",
       "      <td>6mICuAdrwEjh6Y6lroV2Kg</td>\n",
       "      <td>1/1/2017</td>\n",
       "      <td>ec</td>\n",
       "    </tr>\n",
       "    <tr>\n",
       "      <th>2</th>\n",
       "      <td>3</td>\n",
       "      <td>Otra Vez (feat. J Balvin)</td>\n",
       "      <td>Zion &amp; Lennox</td>\n",
       "      <td>15761.0</td>\n",
       "      <td>https://open.spotify.com/track/3QwBODjSEzelZyV...</td>\n",
       "      <td>3QwBODjSEzelZyVjxPOHdq</td>\n",
       "      <td>1/1/2017</td>\n",
       "      <td>ec</td>\n",
       "    </tr>\n",
       "    <tr>\n",
       "      <th>3</th>\n",
       "      <td>4</td>\n",
       "      <td>Vente Pa' Ca</td>\n",
       "      <td>Ricky Martin</td>\n",
       "      <td>14954.0</td>\n",
       "      <td>https://open.spotify.com/track/7DM4BPaS7uofFul...</td>\n",
       "      <td>7DM4BPaS7uofFul3ywMe46</td>\n",
       "      <td>1/1/2017</td>\n",
       "      <td>ec</td>\n",
       "    </tr>\n",
       "    <tr>\n",
       "      <th>4</th>\n",
       "      <td>5</td>\n",
       "      <td>Safari</td>\n",
       "      <td>J Balvin</td>\n",
       "      <td>14269.0</td>\n",
       "      <td>https://open.spotify.com/track/6rQSrBHf7HlZjtc...</td>\n",
       "      <td>6rQSrBHf7HlZjtcMZ4S4bO</td>\n",
       "      <td>1/1/2017</td>\n",
       "      <td>ec</td>\n",
       "    </tr>\n",
       "  </tbody>\n",
       "</table>\n",
       "</div>"
      ],
      "text/plain": [
       "   Position                  Track Name         Artist  Streams  \\\n",
       "0         1  Reggaetón Lento (Bailemos)           CNCO  19272.0   \n",
       "1         2                    Chantaje        Shakira  19270.0   \n",
       "2         3   Otra Vez (feat. J Balvin)  Zion & Lennox  15761.0   \n",
       "3         4                Vente Pa' Ca   Ricky Martin  14954.0   \n",
       "4         5                      Safari       J Balvin  14269.0   \n",
       "\n",
       "                                                 URL                 Column1  \\\n",
       "0  https://open.spotify.com/track/3AEZUABDXNtecAO...  3AEZUABDXNtecAOSC1qTfo   \n",
       "1  https://open.spotify.com/track/6mICuAdrwEjh6Y6...  6mICuAdrwEjh6Y6lroV2Kg   \n",
       "2  https://open.spotify.com/track/3QwBODjSEzelZyV...  3QwBODjSEzelZyVjxPOHdq   \n",
       "3  https://open.spotify.com/track/7DM4BPaS7uofFul...  7DM4BPaS7uofFul3ywMe46   \n",
       "4  https://open.spotify.com/track/6rQSrBHf7HlZjtc...  6rQSrBHf7HlZjtcMZ4S4bO   \n",
       "\n",
       "       Date Region  \n",
       "0  1/1/2017     ec  \n",
       "1  1/1/2017     ec  \n",
       "2  1/1/2017     ec  \n",
       "3  1/1/2017     ec  \n",
       "4  1/1/2017     ec  "
      ]
     },
     "execution_count": 6,
     "metadata": {},
     "output_type": "execute_result"
    }
   ],
   "source": [
    "df.head()"
   ]
  },
  {
   "cell_type": "code",
   "execution_count": null,
   "metadata": {},
   "outputs": [],
   "source": []
  }
 ],
 "metadata": {
  "kernelspec": {
   "display_name": "Python 3",
   "language": "python",
   "name": "python3"
  },
  "language_info": {
   "codemirror_mode": {
    "name": "ipython",
    "version": 3
   },
   "file_extension": ".py",
   "mimetype": "text/x-python",
   "name": "python",
   "nbconvert_exporter": "python",
   "pygments_lexer": "ipython3",
   "version": "3.8.3"
  }
 },
 "nbformat": 4,
 "nbformat_minor": 4
}
